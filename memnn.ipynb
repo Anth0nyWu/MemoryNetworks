{
 "cells": [
  {
   "cell_type": "code",
   "execution_count": 14,
   "metadata": {},
   "outputs": [
    {
     "name": "stdout",
     "output_type": "stream",
     "text": [
      "The autoreload extension is already loaded. To reload it, use:\n",
      "  %reload_ext autoreload\n"
     ]
    }
   ],
   "source": [
    "%load_ext autoreload\n",
    "%autoreload 2"
   ]
  },
  {
   "cell_type": "code",
   "execution_count": 17,
   "metadata": {},
   "outputs": [],
   "source": [
    "import numpy as np\n",
    "import json\n",
    "import pickle\n",
    "import argparse\n",
    "from nltk.tokenize import word_tokenize\n",
    "from tqdm import tqdm\n",
    "# from process_data import save_pickle, load_pickle, load_processed_data, load_glove_weights, to_var, make_word_vector, add_padding\n",
    "import torch\n",
    "import torch.nn as nn\n",
    "from torch.autograd import Variable\n",
    "from torch import optim\n",
    "import torch.nn.functional as F\n",
    "import sys\n",
    "from utils import load_data"
   ]
  },
  {
   "cell_type": "code",
   "execution_count": 26,
   "metadata": {},
   "outputs": [
    {
     "name": "stdout",
     "output_type": "stream",
     "text": [
      "sample ([['mary', 'moved', 'to', 'the', 'bathroom'], ['john', 'went', 'to', 'the', 'hallway']], ['where', 'is', 'mary'], ['bathroom'])\n",
      "story_len 10\n",
      "s_sent_len 6\n",
      "q_sent_len 3\n"
     ]
    },
    {
     "name": "stderr",
     "output_type": "stream",
     "text": [
      "/home/jonki/anaconda3/lib/python3.6/re.py:212: FutureWarning: split() requires a non-empty pattern match.\n",
      "  return _compile(pattern, flags).split(string, maxsplit)\n"
     ]
    }
   ],
   "source": [
    "train_data, test_data, vocab = load_data('./data/tasks_1-20_v1-2/en', 0, 1)\n",
    "data = train_data + test_data\n",
    "print('sample', train_data[0])\n",
    "w2i = dict((w, i) for i, w in enumerate(vocab))\n",
    "story_len = max(len(s) for s, q, a in data)\n",
    "s_sent_len = max(len(ss) for s, q, a in data for ss in s)\n",
    "q_sent_len = max(len(q) for s, q, a in data)\n",
    "print('story_len', story_len)\n",
    "print('s_sent_len', s_sent_len)\n",
    "print('q_sent_len', q_sent_len)"
   ]
  },
  {
   "cell_type": "code",
   "execution_count": 27,
   "metadata": {},
   "outputs": [],
   "source": [
    "\n",
    "    \n",
    "\n",
    "bs = 32\n",
    "# story_len = 8\n",
    "# s_sent_len = 12\n",
    "# q_sent_len = 13\n",
    "vocab_size = len(vocab)\n",
    "embd_size = 100\n",
    "# ans_size = 99\n",
    "x = Variable(torch.zeros(bs, story_len, s_sent_len).type(torch.LongTensor))\n",
    "q = Variable(torch.zeros(bs, q_sent_len).type(torch.LongTensor))\n",
    "model = MemNN(vocab_size, embd_size, vocab_size)\n",
    "pred = model(x, q)"
   ]
  },
  {
   "cell_type": "code",
   "execution_count": 23,
   "metadata": {},
   "outputs": [
    {
     "name": "stdout",
     "output_type": "stream",
     "text": [
      "a \n",
      " 2  3\n",
      " 4  5\n",
      " 6  7\n",
      "[torch.FloatTensor of size 3x2]\n",
      "\n",
      "b \n",
      " 10\n",
      " 20\n",
      " 30\n",
      "[torch.FloatTensor of size 3x1]\n",
      "\n"
     ]
    },
    {
     "data": {
      "text/plain": [
       "\n",
       "  20   30\n",
       "  80  100\n",
       " 180  210\n",
       "[torch.FloatTensor of size 3x2]"
      ]
     },
     "execution_count": 23,
     "metadata": {},
     "output_type": "execute_result"
    }
   ],
   "source": [
    "a = torch.Tensor([[2,3], [4,5], [6,7]])\n",
    "b = torch.Tensor([[10], [20], [30]])\n",
    "print('a', a)\n",
    "print('b', b)\n",
    "b*a"
   ]
  },
  {
   "cell_type": "code",
   "execution_count": 10,
   "metadata": {},
   "outputs": [
    {
     "name": "stderr",
     "output_type": "stream",
     "text": [
      "/home/jonki/anaconda3/lib/python3.6/re.py:212: FutureWarning: split() requires a non-empty pattern match.\n",
      "  return _compile(pattern, flags).split(string, maxsplit)\n"
     ]
    }
   ],
   "source": []
  },
  {
   "cell_type": "code",
   "execution_count": 11,
   "metadata": {},
   "outputs": [
    {
     "data": {
      "text/plain": [
       "([['mary', 'moved', 'to', 'the', 'bathroom'],\n",
       "  ['john', 'went', 'to', 'the', 'hallway']],\n",
       " ['where', 'is', 'mary'],\n",
       " ['bathroom'])"
      ]
     },
     "execution_count": 11,
     "metadata": {},
     "output_type": "execute_result"
    }
   ],
   "source": [
    "train_data[0]"
   ]
  },
  {
   "cell_type": "code",
   "execution_count": null,
   "metadata": {
    "collapsed": true
   },
   "outputs": [],
   "source": []
  },
  {
   "cell_type": "code",
   "execution_count": null,
   "metadata": {
    "collapsed": true
   },
   "outputs": [],
   "source": []
  }
 ],
 "metadata": {
  "kernelspec": {
   "display_name": "Python 3",
   "language": "python",
   "name": "python3"
  },
  "language_info": {
   "codemirror_mode": {
    "name": "ipython",
    "version": 3
   },
   "file_extension": ".py",
   "mimetype": "text/x-python",
   "name": "python",
   "nbconvert_exporter": "python",
   "pygments_lexer": "ipython3",
   "version": "3.6.1"
  }
 },
 "nbformat": 4,
 "nbformat_minor": 2
}
